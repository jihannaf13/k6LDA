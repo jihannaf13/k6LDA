{
 "cells": [
  {
   "cell_type": "code",
   "execution_count": 17,
   "metadata": {},
   "outputs": [
    {
     "name": "stdout",
     "output_type": "stream",
     "text": [
      "[[-0.97225298]\n",
      " [ 0.19022341]\n",
      " [-0.42271869]\n",
      " [ 1.20474826]]\n"
     ]
    }
   ],
   "source": [
    "from sklearn.discriminant_analysis import LinearDiscriminantAnalysis as LDA\n",
    "import pandas as pd\n",
    "import numpy as np\n",
    "from matplotlib import pyplot as plt\n",
    "\n",
    "# load dataset\n",
    "df = pd.read_csv(\"dataset2.csv\")\n",
    "\n",
    "X = df[['x1', 'x2']]\n",
    "y = df['target']\n",
    "\n",
    "# fit LDA model\n",
    "lda = LDA()\n",
    "lda.fit(X, y)\n",
    "\n",
    "# transform dataset using LDA model\n",
    "X_lda = lda.transform(X)\n",
    "\n",
    "print(X_lda)"
   ]
  },
  {
   "cell_type": "code",
   "execution_count": 18,
   "metadata": {},
   "outputs": [
    {
     "name": "stdout",
     "output_type": "stream",
     "text": [
      "[[-0.97225298]\n",
      " [ 0.19022341]\n",
      " [-0.42271869]\n",
      " [ 1.20474826]]\n"
     ]
    }
   ],
   "source": [
    "\n",
    "# LDA\n",
    "sklearn_lda = LDA(n_components=1)\n",
    "X_lda_sklearn = sklearn_lda.fit_transform(X, y)\n",
    "print(X_lda_sklearn)"
   ]
  },
  {
   "cell_type": "code",
   "execution_count": 19,
   "metadata": {},
   "outputs": [],
   "source": [
    "def plot_scikit_lda(X, title):\n",
    "\n",
    "    ax = plt.subplot(111)\n",
    "    for label,marker,color in zip(\n",
    "        range(1,4),('^', 's', 'o'),('blue', 'red', 'green')):\n",
    "\n",
    "        plt.scatter(x=X[:,0][y == label],\n",
    "                    y=X[:,1][y == label] * -1, # flip the figure\n",
    "                    marker=marker,\n",
    "                    color=color,\n",
    "                    alpha=0.5,\n",
    "                    label=label_dict[label])\n",
    "\n",
    "    plt.xlabel('LD1')\n",
    "    plt.ylabel('LD2')\n",
    "\n",
    "    leg = plt.legend(loc='upper right', fancybox=True)\n",
    "    leg.get_frame().set_alpha(0.5)\n",
    "    plt.title(title)\n",
    "\n",
    "    # hide axis ticks\n",
    "    plt.tick_params(axis=\"both\", which=\"both\", bottom=\"off\", top=\"off\",  \n",
    "            labelbottom=\"on\", left=\"off\", right=\"off\", labelleft=\"on\")\n",
    "\n",
    "    # remove axis spines\n",
    "    ax.spines[\"top\"].set_visible(False)  \n",
    "    ax.spines[\"right\"].set_visible(False)\n",
    "    ax.spines[\"bottom\"].set_visible(False)\n",
    "    ax.spines[\"left\"].set_visible(False)    \n",
    "\n",
    "    plt.grid()\n",
    "    plt.tight_layout\n",
    "    plt.show()"
   ]
  },
  {
   "cell_type": "code",
   "execution_count": 22,
   "metadata": {},
   "outputs": [],
   "source": [
    "def plot_step_lda():\n",
    "\n",
    "    ax = plt.subplot(111)\n",
    "    for label,marker,color in zip(\n",
    "        range(1,4),('^', 's', 'o'),('blue', 'red', 'green')):\n",
    "\n",
    "        plt.scatter(x=X_lda[:,0].real[y == label],\n",
    "                y=X_lda[:,0].real[y == label],\n",
    "                marker=marker,\n",
    "                color=color,\n",
    "                alpha=0.5\n",
    "                )\n",
    "\n",
    "    plt.xlabel('LD1')\n",
    "    plt.ylabel('LD2')\n",
    "\n",
    "    leg = plt.legend(loc='upper right', fancybox=True)\n",
    "    leg.get_frame().set_alpha(0.5)\n",
    "    plt.title('LDA: Iris projection onto the first 2 linear discriminants')\n",
    "\n",
    "    # hide axis ticks\n",
    "    plt.tick_params(axis=\"both\", which=\"both\", bottom=\"off\", top=\"off\",  \n",
    "            labelbottom=\"on\", left=\"off\", right=\"off\", labelleft=\"on\")\n",
    "\n",
    "    # remove axis spines\n",
    "    ax.spines[\"top\"].set_visible(False)  \n",
    "    ax.spines[\"right\"].set_visible(False)\n",
    "    ax.spines[\"bottom\"].set_visible(False)\n",
    "    ax.spines[\"left\"].set_visible(False)    \n",
    "\n",
    "    plt.grid()\n",
    "    plt.tight_layout\n",
    "    plt.show()"
   ]
  },
  {
   "cell_type": "code",
   "execution_count": 24,
   "metadata": {},
   "outputs": [
    {
     "name": "stderr",
     "output_type": "stream",
     "text": [
      "No artists with labels found to put in legend.  Note that artists whose label start with an underscore are ignored when legend() is called with no argument.\n"
     ]
    },
    {
     "data": {
      "image/png": "[encoded data removed]",
      "text/plain": [
       "<Figure size 432x288 with 1 Axes>"
      ]
     },
     "metadata": {
      "needs_background": "light"
     },
     "output_type": "display_data"
    },
    {
     "ename": "IndexError",
     "evalue": "index 1 is out of bounds for axis 1 with size 1",
     "output_type": "error",
     "traceback": [
      "\u001b[1;31m---------------------------------------------------------------------------\u001b[0m",
      "\u001b[1;31mIndexError\u001b[0m                                Traceback (most recent call last)",
      "\u001b[1;32mc:\\Users\\jihan\\Downloads\\code t6 LDA\\k6LDA\\Kelompok6_LDA_Lib.ipynb Cell 5\u001b[0m in \u001b[0;36m<cell line: 2>\u001b[1;34m()\u001b[0m\n\u001b[0;32m      <a href='vscode-notebook-cell:/c%3A/Users/jihan/Downloads/code%20t6%20LDA/k6LDA/Kelompok6_LDA_Lib.ipynb#W4sZmlsZQ%3D%3D?line=0'>1</a>\u001b[0m plot_step_lda()\n\u001b[1;32m----> <a href='vscode-notebook-cell:/c%3A/Users/jihan/Downloads/code%20t6%20LDA/k6LDA/Kelompok6_LDA_Lib.ipynb#W4sZmlsZQ%3D%3D?line=1'>2</a>\u001b[0m plot_scikit_lda(X_lda_sklearn, title\u001b[39m=\u001b[39;49m\u001b[39m'\u001b[39;49m\u001b[39mDefault LDA via scikit-learn\u001b[39;49m\u001b[39m'\u001b[39;49m)\n",
      "\u001b[1;32mc:\\Users\\jihan\\Downloads\\code t6 LDA\\k6LDA\\Kelompok6_LDA_Lib.ipynb Cell 5\u001b[0m in \u001b[0;36mplot_scikit_lda\u001b[1;34m(X, title)\u001b[0m\n\u001b[0;32m      <a href='vscode-notebook-cell:/c%3A/Users/jihan/Downloads/code%20t6%20LDA/k6LDA/Kelompok6_LDA_Lib.ipynb#W4sZmlsZQ%3D%3D?line=2'>3</a>\u001b[0m ax \u001b[39m=\u001b[39m plt\u001b[39m.\u001b[39msubplot(\u001b[39m111\u001b[39m)\n\u001b[0;32m      <a href='vscode-notebook-cell:/c%3A/Users/jihan/Downloads/code%20t6%20LDA/k6LDA/Kelompok6_LDA_Lib.ipynb#W4sZmlsZQ%3D%3D?line=3'>4</a>\u001b[0m \u001b[39mfor\u001b[39;00m label,marker,color \u001b[39min\u001b[39;00m \u001b[39mzip\u001b[39m(\n\u001b[0;32m      <a href='vscode-notebook-cell:/c%3A/Users/jihan/Downloads/code%20t6%20LDA/k6LDA/Kelompok6_LDA_Lib.ipynb#W4sZmlsZQ%3D%3D?line=4'>5</a>\u001b[0m     \u001b[39mrange\u001b[39m(\u001b[39m1\u001b[39m,\u001b[39m4\u001b[39m),(\u001b[39m'\u001b[39m\u001b[39m^\u001b[39m\u001b[39m'\u001b[39m, \u001b[39m'\u001b[39m\u001b[39ms\u001b[39m\u001b[39m'\u001b[39m, \u001b[39m'\u001b[39m\u001b[39mo\u001b[39m\u001b[39m'\u001b[39m),(\u001b[39m'\u001b[39m\u001b[39mblue\u001b[39m\u001b[39m'\u001b[39m, \u001b[39m'\u001b[39m\u001b[39mred\u001b[39m\u001b[39m'\u001b[39m, \u001b[39m'\u001b[39m\u001b[39mgreen\u001b[39m\u001b[39m'\u001b[39m)):\n\u001b[0;32m      <a href='vscode-notebook-cell:/c%3A/Users/jihan/Downloads/code%20t6%20LDA/k6LDA/Kelompok6_LDA_Lib.ipynb#W4sZmlsZQ%3D%3D?line=6'>7</a>\u001b[0m     plt\u001b[39m.\u001b[39mscatter(x\u001b[39m=\u001b[39mX[:,\u001b[39m0\u001b[39m][y \u001b[39m==\u001b[39m label],\n\u001b[1;32m----> <a href='vscode-notebook-cell:/c%3A/Users/jihan/Downloads/code%20t6%20LDA/k6LDA/Kelompok6_LDA_Lib.ipynb#W4sZmlsZQ%3D%3D?line=7'>8</a>\u001b[0m                 y\u001b[39m=\u001b[39mX[:,\u001b[39m1\u001b[39;49m][y \u001b[39m==\u001b[39m label] \u001b[39m*\u001b[39m \u001b[39m-\u001b[39m\u001b[39m1\u001b[39m, \u001b[39m# flip the figure\u001b[39;00m\n\u001b[0;32m      <a href='vscode-notebook-cell:/c%3A/Users/jihan/Downloads/code%20t6%20LDA/k6LDA/Kelompok6_LDA_Lib.ipynb#W4sZmlsZQ%3D%3D?line=8'>9</a>\u001b[0m                 marker\u001b[39m=\u001b[39mmarker,\n\u001b[0;32m     <a href='vscode-notebook-cell:/c%3A/Users/jihan/Downloads/code%20t6%20LDA/k6LDA/Kelompok6_LDA_Lib.ipynb#W4sZmlsZQ%3D%3D?line=9'>10</a>\u001b[0m                 color\u001b[39m=\u001b[39mcolor,\n\u001b[0;32m     <a href='vscode-notebook-cell:/c%3A/Users/jihan/Downloads/code%20t6%20LDA/k6LDA/Kelompok6_LDA_Lib.ipynb#W4sZmlsZQ%3D%3D?line=10'>11</a>\u001b[0m                 alpha\u001b[39m=\u001b[39m\u001b[39m0.5\u001b[39m,\n\u001b[0;32m     <a href='vscode-notebook-cell:/c%3A/Users/jihan/Downloads/code%20t6%20LDA/k6LDA/Kelompok6_LDA_Lib.ipynb#W4sZmlsZQ%3D%3D?line=11'>12</a>\u001b[0m                 label\u001b[39m=\u001b[39mlabel_dict[label])\n\u001b[0;32m     <a href='vscode-notebook-cell:/c%3A/Users/jihan/Downloads/code%20t6%20LDA/k6LDA/Kelompok6_LDA_Lib.ipynb#W4sZmlsZQ%3D%3D?line=13'>14</a>\u001b[0m plt\u001b[39m.\u001b[39mxlabel(\u001b[39m'\u001b[39m\u001b[39mLD1\u001b[39m\u001b[39m'\u001b[39m)\n\u001b[0;32m     <a href='vscode-notebook-cell:/c%3A/Users/jihan/Downloads/code%20t6%20LDA/k6LDA/Kelompok6_LDA_Lib.ipynb#W4sZmlsZQ%3D%3D?line=14'>15</a>\u001b[0m plt\u001b[39m.\u001b[39mylabel(\u001b[39m'\u001b[39m\u001b[39mLD2\u001b[39m\u001b[39m'\u001b[39m)\n",
      "\u001b[1;31mIndexError\u001b[0m: index 1 is out of bounds for axis 1 with size 1"
     ]
    },
    {
     "data": {
      "image/png": "[encoded data removed]",
      "text/plain": [
       "<Figure size 432x288 with 1 Axes>"
      ]
     },
     "metadata": {
      "needs_background": "light"
     },
     "output_type": "display_data"
    }
   ],
   "source": [
    "plot_step_lda()\n",
    "plot_scikit_lda(X_lda_sklearn, title='Default LDA via scikit-learn')"
   ]
  },
  {
   "cell_type": "code",
   "execution_count": null,
   "metadata": {},
   "outputs": [
    {
     "name": "stdout",
     "output_type": "stream",
     "text": [
      "[1.]\n"
     ]
    }
   ],
   "source": [
    "a = lda.explained_variance_ratio_\n",
    "print(a)"
   ]
  }
 ],
 "metadata": {
  "kernelspec": {
   "display_name": "Python 3",
   "language": "python",
   "name": "python3"
  },
  "language_info": {
   "codemirror_mode": {
    "name": "ipython",
    "version": 3
   },
   "file_extension": ".py",
   "mimetype": "text/x-python",
   "name": "python",
   "nbconvert_exporter": "python",
   "pygments_lexer": "ipython3",
   "version": "3.9.6"
  },
  "orig_nbformat": 4
 },
 "nbformat": 4,
 "nbformat_minor": 2
}
