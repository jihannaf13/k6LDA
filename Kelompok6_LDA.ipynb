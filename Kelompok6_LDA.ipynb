{
 "cells": [
  {
   "attachments": {},
   "cell_type": "markdown",
   "metadata": {},
   "source": [
    "Import Library"
   ]
  },
  {
   "cell_type": "code",
   "execution_count": 18,
   "metadata": {},
   "outputs": [],
   "source": [
    "import numpy as np\n",
    "import pandas as pd\n",
    "import matplotlib.pyplot as plt"
   ]
  },
  {
   "attachments": {},
   "cell_type": "markdown",
   "metadata": {},
   "source": [
    "Membuat kelas untuk LDA"
   ]
  },
  {
   "cell_type": "code",
   "execution_count": 19,
   "metadata": {},
   "outputs": [],
   "source": [
    "class LDA:\n",
    "    def __init__(self, n_components):\n",
    "        self.n_components = n_components\n",
    "        self.linear_discriminants = None\n",
    "\n",
    "    def fit(self, X, y):\n",
    "        n_features = X.shape[1] #Variabel untuk Feature\n",
    "        class_labels = np.unique(y) #Variabel untuk kelas (Target)\n",
    "\n",
    "        # Rumus untuk Within class scatter matrix:\n",
    "        # SW = sum((X_c - mean_X_c)*transpose(X_c - mean_X_c) )\n",
    "\n",
    "        # Rumus untuk Between class scatter:\n",
    "        # SB = sum( n_c * (mean_X_c - mean_overall)*transpose(mean_X_c - mean_overall))\n",
    "\n",
    "        mean_overall = np.mean(X, axis=0) #Menentukan nilai mean overall\n",
    "        # print(\"Mean Overall: \", mean_overall)\n",
    "        SW = np.zeros((n_features, n_features)) #Membuat dimensi matriks untuk SW\n",
    "        SB = np.zeros((n_features, n_features)) #Membuat dimensi matriks untuk SB\n",
    "        for c in class_labels: \n",
    "            X_c = X[y == c] #Feature data yang dibuat menjadi matriks\n",
    "            # print(\"x_c: \\n\",X_c)\n",
    "            mean_c = np.mean(X_c, axis=0) #Menentukan mean untuk feature\n",
    "            # (4, n_c) * (n_c, 4) = (4,4) -> transpose\n",
    "            SW += (X_c - mean_c ).T.dot((X_c - mean_c)) #Menentukan nilai SW\n",
    "            # print(\"Minus:\", minus)\n",
    "            # print(\"SW1:\",SW)\n",
    "\n",
    "            # (4, 1) * (1, 4) = (4,4) -> reshape\n",
    "            n_c = X_c.shape[0] #Menentukan nilai N\n",
    "            # print(\"n_c\",n_c)\n",
    "            mean_diff = (mean_c - mean_overall).reshape(n_features, 1) #Menentukan Mean Difference\n",
    "            # print(\"Mean Diff: \\n\", mean_diff)\n",
    "            SB += n_c * (mean_diff).dot(mean_diff.T) #Menentukan nilai SB\n",
    "            # print(\"SB dalem: \",SB)\n",
    "            # print(\"Mean C: \\n\", mean_c)\n",
    "\n",
    "        \n",
    "        print(\"SW:\\n\", SW) #Menampilkan nilai SW akhir\n",
    "        print(\"SB:\\n\", SB) #Menampilkan nilai SB akhir\n",
    "\n",
    "        # Mencari nilai SW^-1 * SB\n",
    "        A = np.linalg.inv(SW).dot(SB)\n",
    "        print(\"A:\\n\", A)\n",
    "        # Menentukan eigenvalues dan eigenvectors dari SW^-1 * SB\n",
    "        eigenvalues, eigenvectors = np.linalg.eig(A)\n",
    "        # -> eigenvector v = [:,i] column vector, lakukan transpose untuk mempermudah\n",
    "        # Urutkan eigenvalues dari tinggi hingga rendah\n",
    "        eigenvectors = eigenvectors.T #Transpose eigenvectors\n",
    "        idxs = np.argsort(abs(eigenvalues))[::-1] #Mengurutkan eigenvalues\n",
    "        eigenvalues = eigenvalues[idxs]\n",
    "        eigenvectors = eigenvectors[idxs]\n",
    "        print(\"Eigen Vector:\\n\",eigenvectors)\n",
    "        print(\"Eigen Values\\n\", eigenvalues)\n",
    "        # store first n eigenvectors\n",
    "        self.linear_discriminants = eigenvectors[0 : self.n_components]\n",
    "\n",
    "    def transform(self, X):\n",
    "        # project data\n",
    "        return np.dot(X, self.linear_discriminants.T)"
   ]
  },
  {
   "cell_type": "code",
   "execution_count": 20,
   "metadata": {},
   "outputs": [
    {
     "name": "stdout",
     "output_type": "stream",
     "text": [
      "SW:\n",
      " [[ 6.5 -1.5]\n",
      " [-1.5  5. ]]\n",
      "SB:\n",
      " [[0.25 0.5 ]\n",
      " [0.5  1.  ]]\n",
      "A:\n",
      " [[0.0661157  0.1322314 ]\n",
      " [0.11983471 0.23966942]]\n",
      "Eigen Vector:\n",
      " [[-0.48307734 -0.87557768]\n",
      " [-0.89442719  0.4472136 ]]\n",
      "Eigen Values\n",
      " [0.30578512 0.        ]\n",
      "Shape of X: (4, 2)\n",
      "Shape of transformed X: (4, 2)\n"
     ]
    },
    {
     "data": {
      "image/png": "[encoded data removed]",
      "text/plain": [
       "<Figure size 432x288 with 2 Axes>"
      ]
     },
     "metadata": {
      "needs_background": "light"
     },
     "output_type": "display_data"
    }
   ],
   "source": [
    "# Testing\n",
    "if __name__ == \"__main__\":\n",
    "    data = pd.read_csv(\"dataset2.csv\") #Membaca Dataset\n",
    "    X, y = data.drop(\"target\", axis = 1), data.target\n",
    "    X = np.array(X)\n",
    "\n",
    "    # Project the data onto the 2 primary linear discriminants\n",
    "    lda = LDA(2)\n",
    "    lda.fit(X, y)\n",
    "    X_projected = lda.transform(X)\n",
    "\n",
    "    print(\"Shape of X:\", X.shape)\n",
    "    print(\"Shape of transformed X:\", X_projected.shape)\n",
    "\n",
    "    x1, x2 = X_projected[:, 0], X_projected[:, 1]\n",
    "\n",
    "    plt.scatter(\n",
    "        x1, x2, c=y, edgecolor=\"none\", alpha=0.8, cmap=plt.cm.get_cmap(\"viridis\", 3)\n",
    "    )\n",
    "\n",
    "    plt.xlabel(\"Linear Discriminant 1\")\n",
    "    plt.ylabel(\"Linear Discriminant 2\")\n",
    "    plt.colorbar()\n",
    "    plt.show()"
   ]
  },
  {
   "cell_type": "code",
   "execution_count": 21,
   "metadata": {},
   "outputs": [
    {
     "name": "stdout",
     "output_type": "stream",
     "text": [
      "SW:\n",
      " [[38.9562 13.63   24.6246  5.645 ]\n",
      " [13.63   16.962   8.1208  4.8084]\n",
      " [24.6246  8.1208 27.2226  6.2718]\n",
      " [ 5.645   4.8084  6.2718  6.1566]]\n",
      "SB:\n",
      " [[ 63.21213333 -19.95266667 165.2484      71.27933333]\n",
      " [-19.95266667  11.34493333 -57.2396     -22.93266667]\n",
      " [165.2484     -57.2396     437.1028     186.774     ]\n",
      " [ 71.27933333 -22.93266667 186.774       80.41333333]]\n",
      "A:\n",
      " [[ -3.05836939   1.08138264  -8.1119227   -3.45864987]\n",
      " [ -5.56163926   2.17821866 -14.96461194  -6.30773951]\n",
      " [  8.07743878  -2.94271854  21.5115909    9.14206468]\n",
      " [ 10.49708187  -3.41985449  27.54852482  11.84588007]]\n",
      "Eigen Vector:\n",
      " [[-0.20874182 -0.38620369  0.55401172  0.7073504 ]\n",
      " [-0.00653196 -0.58661055  0.25256154 -0.76945309]\n",
      " [ 0.15169622  0.28172319  0.35490222 -0.87844448]\n",
      " [ 0.87924206 -0.32816889 -0.31374947 -0.1442215 ]]\n",
      "Eigen Values\n",
      " [ 3.21919292e+01  2.85391043e-01 -9.19583748e-15 -1.60678244e-15]\n",
      "Shape of X: (150, 4)\n",
      "Shape of transformed X: (150, 2)\n"
     ]
    },
    {
     "data": {
      "image/png": "[encoded data removed]",
      "text/plain": [
       "<Figure size 432x288 with 2 Axes>"
      ]
     },
     "metadata": {
      "needs_background": "light"
     },
     "output_type": "display_data"
    }
   ],
   "source": [
    "#Menggunakan Dataset IRIS\n",
    "if __name__ == \"__main__\":\n",
    "    from sklearn import datasets\n",
    "    data = datasets.load_iris()\n",
    "    X, y = data.data, data.target\n",
    "\n",
    "    # Project the data onto the 2 primary linear discriminants\n",
    "    lda = LDA(2)\n",
    "    lda.fit(X, y)\n",
    "    X_projected = lda.transform(X)\n",
    "\n",
    "    print(\"Shape of X:\", X.shape)\n",
    "    print(\"Shape of transformed X:\", X_projected.shape)\n",
    "\n",
    "    x1, x2 = X_projected[:, 0], X_projected[:, 1]\n",
    "\n",
    "    plt.scatter(\n",
    "        x1, x2, c=y, edgecolor=\"none\", alpha=0.8, cmap=plt.cm.get_cmap(\"viridis\", 3)\n",
    "    )\n",
    "\n",
    "    plt.xlabel(\"Linear Discriminant 1\")\n",
    "    plt.ylabel(\"Linear Discriminant 2\")\n",
    "    plt.colorbar()\n",
    "    plt.show()"
   ]
  }
 ],
 "metadata": {
  "kernelspec": {
   "display_name": "Python 3",
   "language": "python",
   "name": "python3"
  },
  "language_info": {
   "codemirror_mode": {
    "name": "ipython",
    "version": 3
   },
   "file_extension": ".py",
   "mimetype": "text/x-python",
   "name": "python",
   "nbconvert_exporter": "python",
   "pygments_lexer": "ipython3",
   "version": "3.9.6"
  },
  "orig_nbformat": 4
 },
 "nbformat": 4,
 "nbformat_minor": 2
}
